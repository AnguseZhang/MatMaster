{
  "cells": [
    {
      "cell_type": "code",
      "execution_count": 2,
      "id": "d4f58413",
      "metadata": {},
      "outputs": [],
      "source": [
        "from opik import Opik\n",
        "import opik\n",
        "\n",
        "client = Opik()\n",
        "dataset = client.get_dataset(name=\"Database-Search\")\n"
      ]
    },
    {
      "cell_type": "code",
      "execution_count": 7,
      "id": "a615a377",
      "metadata": {},
      "outputs": [],
      "source": [
        "with open(\"/internfs/ycjin/MatMaster/evaluate/experiments/threads/database_search/database_search.json\", \"w\") as f:\n",
        "    f.write(dataset.to_json())"
      ]
    },
    {
      "cell_type": "code",
      "execution_count": 9,
      "id": "590f8410",
      "metadata": {},
      "outputs": [
        {
          "name": "stdout",
          "output_type": "stream",
          "text": [
            "\u8f6c\u6362\u5b8c\u6210\uff01\u8bf7\u67e5\u770b output.txt\n"
          ]
        }
      ],
      "source": [
        "# \u5047\u8bbe\u6587\u4ef6\u4e2d\u5b58\u7684\u662f \\uXXXX \u5f62\u5f0f\u7684 Unicode \u8f6c\u4e49\n",
        "with open(\"/internfs/ycjin/MatMaster/evaluate/experiments/threads/structure_generate/structure_generate.json\", \"r\", encoding=\"utf-8\") as f:\n",
        "    data = f.read()\n",
        "\n",
        "# \u8f6c\u6362\u4e3a\u6b63\u5e38\u4e2d\u6587\n",
        "decoded = data.encode(\"utf-8\").decode(\"unicode_escape\")\n",
        "\n",
        "with open(\"/internfs/ycjin/MatMaster/evaluate/experiments/threads/structure_generate/structure_generate.json\", \"w\", encoding=\"utf-8\") as f:\n",
        "    f.write(decoded)\n",
        "\n",
        "print(\"\u8f6c\u6362\u5b8c\u6210\uff01\u8bf7\u67e5\u770b output.txt\")\n"
      ]
    }
  ],
  "metadata": {
    "kernelspec": {
      "display_name": "MatMaster",
      "language": "python",
      "name": "python3"
    },
    "language_info": {
      "codemirror_mode": {
        "name": "ipython",
        "version": 3
      },
      "file_extension": ".py",
      "mimetype": "text/x-python",
      "name": "python",
      "nbconvert_exporter": "python",
      "pygments_lexer": "ipython3",
      "version": "3.12.2"
    }
  },
  "nbformat": 4,
  "nbformat_minor": 5
}
